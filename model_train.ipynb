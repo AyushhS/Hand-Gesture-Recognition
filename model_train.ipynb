{
 "cells": [
  {
   "cell_type": "code",
   "execution_count": 1,
   "metadata": {},
   "outputs": [],
   "source": [
    "import os\n",
    "import numpy as np\n",
    "import pandas as pd\n",
    "import matplotlib.pyplot as plt\n",
    "from tensorflow.keras.utils import image_dataset_from_directory\n",
    "from tensorflow.keras.layers import Conv2D, Flatten, Dense, Rescaling, MaxPooling2D, BatchNormalization\n",
    "from tensorflow.keras import Sequential"
   ]
  },
  {
   "cell_type": "code",
   "execution_count": 7,
   "metadata": {},
   "outputs": [
    {
     "data": {
      "text/plain": [
       "['call_me',\n",
       " 'fingers_crossed',\n",
       " 'okay',\n",
       " 'paper',\n",
       " 'peace',\n",
       " 'rock',\n",
       " 'rock_on',\n",
       " 'scissor',\n",
       " 'thumbs',\n",
       " 'up']"
      ]
     },
     "execution_count": 7,
     "metadata": {},
     "output_type": "execute_result"
    }
   ],
   "source": [
    "folder = 'dataset'\n",
    "dataset = image_dataset_from_directory(folder, batch_size=1)"
   ]
  },
  {
   "cell_type": "code",
   "execution_count": null,
   "metadata": {},
   "outputs": [],
   "source": [
    "model = Sequential()\n",
    "\n",
    "model.add(Conv2D(64, kernel_size=3, activation='relu', input_shape=(256,256,3))\n",
    "model.add(MaxPool2D(strides=2))\n",
    "model.add(BatchNormalization())\n",
    "\n",
    "model.add(Conv2D(32, kernel_size=3, activation='relu', input_shape=(256,256,3))\n",
    "model.add(MaxPool2D(strides=2))\n",
    "model.add(BatchNormalization())\n",
    "\n",
    "model.add(Conv2D(16, kernel_size=3, activation='relu')\n",
    "model.add(MaxPool2D(strides=2))\n",
    "model.add(BatchNormalization())\n"
   ]
  }
 ],
 "metadata": {
  "kernelspec": {
   "display_name": "Python 3.9.5 64-bit",
   "language": "python",
   "name": "python3"
  },
  "language_info": {
   "codemirror_mode": {
    "name": "ipython",
    "version": 3
   },
   "file_extension": ".py",
   "mimetype": "text/x-python",
   "name": "python",
   "nbconvert_exporter": "python",
   "pygments_lexer": "ipython3",
   "version": "3.9.5"
  },
  "orig_nbformat": 4,
  "vscode": {
   "interpreter": {
    "hash": "76a1c8c3fd934dbaf561da1caa52d85ab6f51e4fd4d989b33244b0dc867a8076"
   }
  }
 },
 "nbformat": 4,
 "nbformat_minor": 2
}
